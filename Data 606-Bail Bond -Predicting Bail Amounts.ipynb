{
 "cells": [
  {
   "cell_type": "markdown",
   "metadata": {},
   "source": [
    "# Data 606: Bail Bond -Predicting Bail Amounts\n",
    "\n",
    "## Bail Bond Group \n",
    "Tara Bhardvaj "
   ]
  },
  {
   "cell_type": "markdown",
   "metadata": {},
   "source": [
    "## Data Cleaning \n"
   ]
  },
  {
   "cell_type": "code",
   "execution_count": 1,
   "metadata": {},
   "outputs": [],
   "source": [
    "# Import Libraries \n",
    "import pandas as pd\n",
    "import numpy as np\n",
    "import sklearn\n",
    "import seaborn as sb"
   ]
  },
  {
   "cell_type": "code",
   "execution_count": 2,
   "metadata": {},
   "outputs": [],
   "source": [
    "# Set table view \n",
    "pd.set_option('display.max_columns', None)"
   ]
  },
  {
   "cell_type": "code",
   "execution_count": 3,
   "metadata": {},
   "outputs": [
    {
     "data": {
      "text/plain": [
       "(284098, 108)"
      ]
     },
     "execution_count": 3,
     "metadata": {},
     "output_type": "execute_result"
    }
   ],
   "source": [
    "# Import .csv\n",
    "fname = \"PretrialReleaseDataExtractWeb.csv\"\n",
    "df_raw = pd.read_csv(fname)\n",
    "df_raw.shape"
   ]
  },
  {
   "cell_type": "code",
   "execution_count": 4,
   "metadata": {},
   "outputs": [],
   "source": [
    "# Column names \n",
    "# print(df_raw.columns.tolist())\n"
   ]
  },
  {
   "cell_type": "code",
   "execution_count": 246,
   "metadata": {},
   "outputs": [],
   "source": [
    "# Remove extraneous features \n",
    "# Features to remove \n",
    "remove = ['Court_Name','County_Name', 'District', 'Region', 'Court_Type', \n",
    "          'Warrant_Ordered_btw_Arraign_and_Dispo', 'DAT_WO_WS_Prior_to_Arraign', \n",
    "          'First_Bench_Warrant_Date', 'Non_Stayed_WO', 'Num_of_Stayed_WO', 'Num_of_ROW',\n",
    "          'Docket_Status', 'Disposition_Type', 'Disposition_Detail', 'Dismissal_Reason',\n",
    "          'Disposition_Date', 'Most_Severe_Sentence', 'Top_Conviction_Law', 'Top_Conviction_Article_Section',\n",
    "          'Top_Conviction_Attempt_Indicator', 'Top_Charge_at_Conviction', 'Top_Charge_Severity_at_Conviction', \n",
    "          'Top_Charge_Weight_at_Conviction', 'Top_Charge_at_Conviction_Violent_Felony_Ind',\n",
    "          'Days_Arraign_Remand_First_Released', 'Known_Days_in_Custody', 'Days_Arraign_Bail_Set_to_First_Posted',\n",
    "          'Days_Arraign_Bail_Set_to_First_Release', 'Days_Arraign_to_Dispo', 'prior_vfo_cnt',\n",
    "          'prior_nonvfo_cnt', 'prior_misd_cnt', 'pend_vfo', 'pend_nonvfo', 'pend_misd', 'supervision',\n",
    "          'rearrest', 'rearrest_date', 'rearrest_firearm', 'rearrest_date_firearm', 'arr_cycle_id','Partially_Secured_App_Bond_Perc', 'Bail_Made_Indicator',\n",
    "          'First_Arraign_Date', 'Remanded_to_Jail_at_Arraign', 'ROR_at_Arraign', 'Bail_Set_and_Posted_at_Arraign', 'Bail_Set_and_Not_Posted_at_Arraign', 'NMR_at_Arraign', \n",
    "          'Partially_Secured_Surety_Bond_Perc', 'Top_Arrest_Law', 'Top_Arraign_Law', 'Top_Arraign_Article_Section', 'Top_Arraign_Attempt_Indicator', \n",
    "          'Top_Charge_at_Arraign', 'Top_Severity_at_Arraign', 'Top_Charge_Weight_at_Arraign', 'Top_Charge_at_Arraign_Violent_Felony_Ind', \n",
    "          'Pretrial_Supervision_at_Arraign', 'Contact_Pretrial_Service_Agency', 'Electronic_Monitoring', 'Travel_Restrictions', 'Passport_Surrender', \n",
    "          'No_Firearms_or_Weapons', 'Maintain_Employment', 'Maintain_Housing', 'Maintain_School', 'Placement_in_Mandatory_Program', 'Removal_to_Hospital',\n",
    "          'Obey_Order_of_Protection', 'Obey_Court_Conditions-Family_Offense', 'Other_NMR', 'Order_of_Protection', \"Representation_at_Securing_Order\",\n",
    "          'App_Count_Arraign_to_Dispo_Released', 'App_Count_Arraign_to_Dispo_Detained', 'App_Count_Arraign_to_Dispo_Total', 'Top_Arrest_Article_Section',\n",
    "          'Top_Arrest_Attempt_Indicator', 'Top_Charge_Weight_at_Arrest', 'Case_Type', 'Top_Charge_at_Arrest']"
   ]
  },
  {
   "cell_type": "code",
   "execution_count": 6,
   "metadata": {},
   "outputs": [],
   "source": [
    "df_raw = df_raw.drop(labels=remove, axis=1)\n"
   ]
  },
  {
   "cell_type": "code",
   "execution_count": 7,
   "metadata": {},
   "outputs": [],
   "source": [
    "df_raw1 = pd.DataFrame(df_raw)"
   ]
  },
  {
   "cell_type": "code",
   "execution_count": 8,
   "metadata": {},
   "outputs": [
    {
     "data": {
      "text/plain": [
       "Internal_Case_ID                               0\n",
       "Gender                                         0\n",
       "Race                                           0\n",
       "Ethnicity                                      0\n",
       "Age_at_Crime                                   0\n",
       "Age_at_Arrest                                  0\n",
       "Court_ORI                                      0\n",
       "Judge_Name                                     0\n",
       "Offense_Date                                  91\n",
       "Arrest_Date                                 3018\n",
       "Arrest_Type                                    0\n",
       "Top_Charge_Severity_at_Arrest                  0\n",
       "Top_Charge_at_Arrest_Violent_Felony_Ind        0\n",
       "Arraign Charge Category                        0\n",
       "Representation_Type                        16770\n",
       "Def_Attended_Sched_Pretrials                   0\n",
       "Release Decision at Arraign                    0\n",
       "First_Bail_Set_Cash                            0\n",
       "First_Bail_Set_Credit                          0\n",
       "First_Insurance_Company_Bail_Bond              7\n",
       "First_Secured_Surety_Bond                      6\n",
       "First_Secured_App_Bond                         6\n",
       "First_Unsecured_Surety_Bond                    6\n",
       "First_Unsecured_App_Bond                       8\n",
       "First_Partially_Secured_Surety_Bond            5\n",
       "First_Partially_Secured_App_Bond               3\n",
       "dtype: int64"
      ]
     },
     "execution_count": 8,
     "metadata": {},
     "output_type": "execute_result"
    }
   ],
   "source": [
    "# Drop Nans\n",
    "\n",
    "df_raw1 = df_raw.dropna(subset=[\"Internal_Case_ID\",\"Gender\",\"Race\",\"Top_Charge_Severity_at_Arrest\"])\n",
    "df_raw1.isna().sum()"
   ]
  },
  {
   "cell_type": "code",
   "execution_count": 9,
   "metadata": {},
   "outputs": [
    {
     "data": {
      "text/plain": [
       "Internal_Case_ID                           0\n",
       "Gender                                     0\n",
       "Race                                       0\n",
       "Ethnicity                                  0\n",
       "Age_at_Crime                               0\n",
       "Age_at_Arrest                              0\n",
       "Court_ORI                                  0\n",
       "Judge_Name                                 0\n",
       "Offense_Date                               0\n",
       "Arrest_Date                                0\n",
       "Arrest_Type                                0\n",
       "Top_Charge_Severity_at_Arrest              0\n",
       "Top_Charge_at_Arrest_Violent_Felony_Ind    0\n",
       "Arraign Charge Category                    0\n",
       "Representation_Type                        0\n",
       "Def_Attended_Sched_Pretrials               0\n",
       "Release Decision at Arraign                0\n",
       "First_Bail_Set_Cash                        0\n",
       "First_Bail_Set_Credit                      0\n",
       "First_Insurance_Company_Bail_Bond          0\n",
       "First_Secured_Surety_Bond                  0\n",
       "First_Secured_App_Bond                     0\n",
       "First_Unsecured_Surety_Bond                0\n",
       "First_Unsecured_App_Bond                   0\n",
       "First_Partially_Secured_Surety_Bond        0\n",
       "First_Partially_Secured_App_Bond           0\n",
       "dtype: int64"
      ]
     },
     "execution_count": 9,
     "metadata": {},
     "output_type": "execute_result"
    }
   ],
   "source": [
    "# replace spaces with /0s\n",
    "df_raw1.eq(\" \").sum()\n",
    "df_raw1 = df_raw1.replace(\" \", 0)\n",
    "df_raw1.eq(\" \").sum()"
   ]
  },
  {
   "cell_type": "code",
   "execution_count": 10,
   "metadata": {},
   "outputs": [],
   "source": [
    "#create Bail_amount Column\n",
    "\n",
    "amt_cols = ['First_Bail_Set_Cash',\n",
    "       'First_Bail_Set_Credit', 'First_Insurance_Company_Bail_Bond',\n",
    "       'First_Secured_Surety_Bond', 'First_Secured_App_Bond',\n",
    "       'First_Unsecured_Surety_Bond', 'First_Unsecured_App_Bond',\n",
    "       'First_Partially_Secured_Surety_Bond',\n",
    "       'First_Partially_Secured_App_Bond']"
   ]
  },
  {
   "cell_type": "code",
   "execution_count": 11,
   "metadata": {},
   "outputs": [],
   "source": [
    "for c in amt_cols: \n",
    "    s = df_raw1[c].str.strip()\n",
    "    df_raw1[c] = pd.to_numeric(s)\n"
   ]
  },
  {
   "cell_type": "code",
   "execution_count": 12,
   "metadata": {},
   "outputs": [],
   "source": [
    "for c in amt_cols: \n",
    "    df_raw1[c].fillna(value=0, inplace=True)"
   ]
  },
  {
   "cell_type": "code",
   "execution_count": 13,
   "metadata": {},
   "outputs": [],
   "source": [
    "df_raw1[\"Bail_Amount\"] = df_raw1[amt_cols].max(axis=1)"
   ]
  },
  {
   "cell_type": "code",
   "execution_count": 14,
   "metadata": {},
   "outputs": [],
   "source": [
    "df_raw1 = df_raw1.drop(amt_cols, axis=1)"
   ]
  },
  {
   "cell_type": "code",
   "execution_count": 15,
   "metadata": {},
   "outputs": [],
   "source": [
    "# create Age column\n",
    "df_raw1[\"Age\"] = df_raw1[[\"Age_at_Crime\", \"Age_at_Arrest\"]].max(axis=1)"
   ]
  },
  {
   "cell_type": "code",
   "execution_count": 16,
   "metadata": {},
   "outputs": [],
   "source": [
    "#Boolean Gender \n",
    "# drop \"unknown\" gender\n",
    "gender_filter = (df_raw1[\"Gender\"]!=\"Unknown\")\n",
    "df_raw1 = df_raw1[gender_filter]\n",
    "\n",
    "df_raw1[\"Gender\"] = np.where(df_raw1[\"Gender\"] == \"male\", 0, 1)\n"
   ]
  },
  {
   "cell_type": "code",
   "execution_count": 17,
   "metadata": {},
   "outputs": [],
   "source": [
    "# Boolean for is this a violent felony\n",
    "df_raw1[\"Violent_Fel\"] = np.where(df_raw1[\"Top_Charge_at_Arrest_Violent_Felony_Ind\"] == \"N\", 0, 1)"
   ]
  },
  {
   "cell_type": "code",
   "execution_count": 18,
   "metadata": {},
   "outputs": [],
   "source": [
    "# Drop Internal ID \n",
    "df_raw1 = df_raw1.drop([\"Internal_Case_ID\"],axis=1)"
   ]
  },
  {
   "cell_type": "code",
   "execution_count": 19,
   "metadata": {},
   "outputs": [],
   "source": [
    "# Bail Filter ( Only want to include cases where bail was assigned)\n",
    "bail_filter = (df_raw1[\"Release Decision at Arraign\"] == \"Bail-set\")\n",
    "df_raw1 = df_raw1[bail_filter]"
   ]
  },
  {
   "cell_type": "code",
   "execution_count": 20,
   "metadata": {},
   "outputs": [],
   "source": [
    "# Select years between 2018-2021\n",
    "df_raw1[\"Arrest_Date\"] = pd.to_datetime(df_raw1[\"Arrest_Date\"], format='%m/%d/%Y')\n",
    "df_raw1[\"Offense_Date\"] = pd.to_datetime(df_raw1[\"Arrest_Date\"], format='%m/%d/%Y')\n",
    "\n",
    "df_raw1[\"Arrest_Date\"] = pd.DatetimeIndex(df_raw1[\"Arrest_Date\"]).year\n",
    "df_raw1[\"Offense_Date\"] = pd.DatetimeIndex(df_raw1[\"Offense_Date\"]).year\n"
   ]
  },
  {
   "cell_type": "code",
   "execution_count": 21,
   "metadata": {},
   "outputs": [],
   "source": [
    "date_cols = [\"Arrest_Date\",\"Offense_Date\"]"
   ]
  },
  {
   "cell_type": "code",
   "execution_count": 22,
   "metadata": {},
   "outputs": [],
   "source": [
    "df_raw1[\"Year\"] = df_raw1[date_cols].max(axis=1)"
   ]
  },
  {
   "cell_type": "code",
   "execution_count": 23,
   "metadata": {},
   "outputs": [],
   "source": [
    "df_raw1 = df_raw1.dropna()"
   ]
  },
  {
   "cell_type": "code",
   "execution_count": 24,
   "metadata": {},
   "outputs": [],
   "source": [
    "year_filter = (df_raw1[\"Year\"]>=2018)\n",
    "df_raw1 = df_raw1[year_filter]\n",
    "\n"
   ]
  },
  {
   "cell_type": "code",
   "execution_count": 25,
   "metadata": {},
   "outputs": [],
   "source": [
    "df_raw1 = df_raw1.drop([\"Arrest_Date\",\"Offense_Date\"],axis=1)\n"
   ]
  },
  {
   "cell_type": "code",
   "execution_count": 26,
   "metadata": {},
   "outputs": [],
   "source": [
    "df_clean = pd.DataFrame(df_raw1)"
   ]
  },
  {
   "cell_type": "code",
   "execution_count": null,
   "metadata": {},
   "outputs": [],
   "source": [
    "# df_clean.to_csv(\"606_cleaned_data_bail_amount.csv\")"
   ]
  },
  {
   "cell_type": "markdown",
   "metadata": {},
   "source": [
    "## Descriptive Statistics"
   ]
  },
  {
   "cell_type": "code",
   "execution_count": 27,
   "metadata": {},
   "outputs": [],
   "source": [
    "import seaborn as sns"
   ]
  },
  {
   "cell_type": "code",
   "execution_count": 29,
   "metadata": {},
   "outputs": [
    {
     "data": {
      "text/plain": [
       "Index(['Gender', 'Race', 'Ethnicity', 'Age_at_Crime', 'Age_at_Arrest',\n",
       "       'Court_ORI', 'Judge_Name', 'Arrest_Type',\n",
       "       'Top_Charge_Severity_at_Arrest',\n",
       "       'Top_Charge_at_Arrest_Violent_Felony_Ind', 'Arraign Charge Category',\n",
       "       'Representation_Type', 'Def_Attended_Sched_Pretrials',\n",
       "       'Release Decision at Arraign', 'Bail_Amount', 'Age', 'Violent_Fel',\n",
       "       'Year'],\n",
       "      dtype='object')"
      ]
     },
     "execution_count": 29,
     "metadata": {},
     "output_type": "execute_result"
    }
   ],
   "source": [
    "df_clean.columns"
   ]
  },
  {
   "cell_type": "code",
   "execution_count": 151,
   "metadata": {},
   "outputs": [
    {
     "data": {
      "text/plain": [
       "<AxesSubplot:title={'center':'Bail_Amount'}, xlabel='[Arraign Charge Category]'>"
      ]
     },
     "execution_count": 151,
     "metadata": {},
     "output_type": "execute_result"
    },
    {
     "data": {
      "image/png": "[encoded data removed]",
      "text/plain": [
       "<Figure size 1224x720 with 1 Axes>"
      ]
     },
     "metadata": {},
     "output_type": "display_data"
    }
   ],
   "source": [
    "df_clean.boxplot(column=[\"Bail_Amount\"], by=[\"Arraign Charge Category\"], fontsize=6, figsize=(17,10))"
   ]
  },
  {
   "cell_type": "code",
   "execution_count": 144,
   "metadata": {},
   "outputs": [
    {
     "data": {
      "text/plain": [
       "<AxesSubplot:xlabel='Bail_Amount', ylabel='Arraign Charge Category'>"
      ]
     },
     "execution_count": 144,
     "metadata": {},
     "output_type": "execute_result"
    },
    {
     "data": {
      "image/png": "[encoded data removed]",
      "text/plain": [
       "<Figure size 1440x720 with 1 Axes>"
      ]
     },
     "metadata": {},
     "output_type": "display_data"
    }
   ],
   "source": [
    "sns.boxplot(x=df_clean[\"Bail_Amount\"], y=df_clean[\"Arraign Charge Category\"])"
   ]
  },
  {
   "cell_type": "code",
   "execution_count": 174,
   "metadata": {},
   "outputs": [],
   "source": [
    "df_crime_bail = df_clean[[\"Bail_Amount\",\"Arraign Charge Category\"]]\n"
   ]
  },
  {
   "cell_type": "code",
   "execution_count": 173,
   "metadata": {},
   "outputs": [
    {
     "data": {
      "text/html": [
       "<div>\n",
       "<style scoped>\n",
       "    .dataframe tbody tr th:only-of-type {\n",
       "        vertical-align: middle;\n",
       "    }\n",
       "\n",
       "    .dataframe tbody tr th {\n",
       "        vertical-align: top;\n",
       "    }\n",
       "\n",
       "    .dataframe thead tr th {\n",
       "        text-align: left;\n",
       "    }\n",
       "\n",
       "    .dataframe thead tr:last-of-type th {\n",
       "        text-align: right;\n",
       "    }\n",
       "</style>\n",
       "<table border=\"1\" class=\"dataframe\">\n",
       "  <thead>\n",
       "    <tr>\n",
       "      <th></th>\n",
       "      <th colspan=\"6\" halign=\"left\">Bail_Amount</th>\n",
       "    </tr>\n",
       "    <tr>\n",
       "      <th></th>\n",
       "      <th>count</th>\n",
       "      <th>min</th>\n",
       "      <th>median</th>\n",
       "      <th>max</th>\n",
       "      <th>mean</th>\n",
       "      <th>std</th>\n",
       "    </tr>\n",
       "    <tr>\n",
       "      <th>Arraign Charge Category</th>\n",
       "      <th></th>\n",
       "      <th></th>\n",
       "      <th></th>\n",
       "      <th></th>\n",
       "      <th></th>\n",
       "      <th></th>\n",
       "    </tr>\n",
       "  </thead>\n",
       "  <tbody>\n",
       "    <tr>\n",
       "      <th>Aggravated Harassment</th>\n",
       "      <td>777</td>\n",
       "      <td>1.0</td>\n",
       "      <td>7500.0</td>\n",
       "      <td>600000.0</td>\n",
       "      <td>21403.639640</td>\n",
       "      <td>5.031305e+04</td>\n",
       "    </tr>\n",
       "    <tr>\n",
       "      <th>Assault</th>\n",
       "      <td>6530</td>\n",
       "      <td>1.0</td>\n",
       "      <td>10000.0</td>\n",
       "      <td>50000000.0</td>\n",
       "      <td>60249.141807</td>\n",
       "      <td>6.367158e+05</td>\n",
       "    </tr>\n",
       "    <tr>\n",
       "      <th>Burglary</th>\n",
       "      <td>3190</td>\n",
       "      <td>1.0</td>\n",
       "      <td>10000.0</td>\n",
       "      <td>10000000.0</td>\n",
       "      <td>48453.686520</td>\n",
       "      <td>2.086470e+05</td>\n",
       "    </tr>\n",
       "    <tr>\n",
       "      <th>Conspiracy</th>\n",
       "      <td>22</td>\n",
       "      <td>1.0</td>\n",
       "      <td>10.0</td>\n",
       "      <td>3500000.0</td>\n",
       "      <td>448639.272727</td>\n",
       "      <td>9.128553e+05</td>\n",
       "    </tr>\n",
       "    <tr>\n",
       "      <th>Criminal Contempt</th>\n",
       "      <td>5192</td>\n",
       "      <td>1.0</td>\n",
       "      <td>10000.0</td>\n",
       "      <td>1000000.0</td>\n",
       "      <td>20057.910632</td>\n",
       "      <td>4.241364e+04</td>\n",
       "    </tr>\n",
       "    <tr>\n",
       "      <th>Criminal Possession of a Weapon</th>\n",
       "      <td>5180</td>\n",
       "      <td>1.0</td>\n",
       "      <td>30000.0</td>\n",
       "      <td>999999999.0</td>\n",
       "      <td>284118.197297</td>\n",
       "      <td>1.391367e+07</td>\n",
       "    </tr>\n",
       "    <tr>\n",
       "      <th>DWI</th>\n",
       "      <td>138</td>\n",
       "      <td>1.0</td>\n",
       "      <td>1.0</td>\n",
       "      <td>300000.0</td>\n",
       "      <td>12048.478261</td>\n",
       "      <td>3.486520e+04</td>\n",
       "    </tr>\n",
       "    <tr>\n",
       "      <th>Drug</th>\n",
       "      <td>2952</td>\n",
       "      <td>1.0</td>\n",
       "      <td>25.0</td>\n",
       "      <td>150000000.0</td>\n",
       "      <td>201462.303184</td>\n",
       "      <td>2.887055e+06</td>\n",
       "    </tr>\n",
       "    <tr>\n",
       "      <th>Endangering Welfare</th>\n",
       "      <td>153</td>\n",
       "      <td>1.0</td>\n",
       "      <td>750.0</td>\n",
       "      <td>150000.0</td>\n",
       "      <td>8281.104575</td>\n",
       "      <td>1.837809e+04</td>\n",
       "    </tr>\n",
       "    <tr>\n",
       "      <th>Homicide Related</th>\n",
       "      <td>460</td>\n",
       "      <td>5000.0</td>\n",
       "      <td>150000.0</td>\n",
       "      <td>75000000.0</td>\n",
       "      <td>690217.391304</td>\n",
       "      <td>4.351727e+06</td>\n",
       "    </tr>\n",
       "    <tr>\n",
       "      <th>Larceny</th>\n",
       "      <td>2488</td>\n",
       "      <td>1.0</td>\n",
       "      <td>1.0</td>\n",
       "      <td>600000.0</td>\n",
       "      <td>7275.795418</td>\n",
       "      <td>2.989489e+04</td>\n",
       "    </tr>\n",
       "    <tr>\n",
       "      <th>Obstruction</th>\n",
       "      <td>228</td>\n",
       "      <td>1.0</td>\n",
       "      <td>1.0</td>\n",
       "      <td>300000.0</td>\n",
       "      <td>3343.605263</td>\n",
       "      <td>2.170763e+04</td>\n",
       "    </tr>\n",
       "    <tr>\n",
       "      <th>Other</th>\n",
       "      <td>1188</td>\n",
       "      <td>1.0</td>\n",
       "      <td>20.0</td>\n",
       "      <td>25001500.0</td>\n",
       "      <td>74677.177609</td>\n",
       "      <td>8.353358e+05</td>\n",
       "    </tr>\n",
       "    <tr>\n",
       "      <th>Other Sex Offense</th>\n",
       "      <td>922</td>\n",
       "      <td>1.0</td>\n",
       "      <td>30000.0</td>\n",
       "      <td>20000000.0</td>\n",
       "      <td>136778.001085</td>\n",
       "      <td>6.968192e+05</td>\n",
       "    </tr>\n",
       "    <tr>\n",
       "      <th>Other VTL</th>\n",
       "      <td>110</td>\n",
       "      <td>1.0</td>\n",
       "      <td>1.0</td>\n",
       "      <td>1250000.0</td>\n",
       "      <td>25165.509091</td>\n",
       "      <td>1.432443e+05</td>\n",
       "    </tr>\n",
       "    <tr>\n",
       "      <th>Property</th>\n",
       "      <td>2004</td>\n",
       "      <td>1.0</td>\n",
       "      <td>25.0</td>\n",
       "      <td>2000000.0</td>\n",
       "      <td>17758.443613</td>\n",
       "      <td>7.660729e+04</td>\n",
       "    </tr>\n",
       "    <tr>\n",
       "      <th>Rape</th>\n",
       "      <td>492</td>\n",
       "      <td>1.0</td>\n",
       "      <td>72500.0</td>\n",
       "      <td>10000000.0</td>\n",
       "      <td>245659.556911</td>\n",
       "      <td>7.870981e+05</td>\n",
       "    </tr>\n",
       "    <tr>\n",
       "      <th>Robbery</th>\n",
       "      <td>3143</td>\n",
       "      <td>1.0</td>\n",
       "      <td>25000.0</td>\n",
       "      <td>50000000.0</td>\n",
       "      <td>110422.092587</td>\n",
       "      <td>1.084428e+06</td>\n",
       "    </tr>\n",
       "    <tr>\n",
       "      <th>Strangulation</th>\n",
       "      <td>907</td>\n",
       "      <td>1.0</td>\n",
       "      <td>10000.0</td>\n",
       "      <td>25001000.0</td>\n",
       "      <td>53302.836825</td>\n",
       "      <td>8.315743e+05</td>\n",
       "    </tr>\n",
       "    <tr>\n",
       "      <th>Unlicensed Operation</th>\n",
       "      <td>464</td>\n",
       "      <td>1.0</td>\n",
       "      <td>1.0</td>\n",
       "      <td>100000.0</td>\n",
       "      <td>3588.573276</td>\n",
       "      <td>1.209666e+04</td>\n",
       "    </tr>\n",
       "  </tbody>\n",
       "</table>\n",
       "</div>"
      ],
      "text/plain": [
       "                                Bail_Amount                                 \\\n",
       "                                      count     min    median          max   \n",
       "Arraign Charge Category                                                      \n",
       "Aggravated Harassment                   777     1.0    7500.0     600000.0   \n",
       "Assault                                6530     1.0   10000.0   50000000.0   \n",
       "Burglary                               3190     1.0   10000.0   10000000.0   \n",
       "Conspiracy                               22     1.0      10.0    3500000.0   \n",
       "Criminal Contempt                      5192     1.0   10000.0    1000000.0   \n",
       "Criminal Possession of a Weapon        5180     1.0   30000.0  999999999.0   \n",
       "DWI                                     138     1.0       1.0     300000.0   \n",
       "Drug                                   2952     1.0      25.0  150000000.0   \n",
       "Endangering Welfare                     153     1.0     750.0     150000.0   \n",
       "Homicide Related                        460  5000.0  150000.0   75000000.0   \n",
       "Larceny                                2488     1.0       1.0     600000.0   \n",
       "Obstruction                             228     1.0       1.0     300000.0   \n",
       "Other                                  1188     1.0      20.0   25001500.0   \n",
       "Other Sex Offense                       922     1.0   30000.0   20000000.0   \n",
       "Other VTL                               110     1.0       1.0    1250000.0   \n",
       "Property                               2004     1.0      25.0    2000000.0   \n",
       "Rape                                    492     1.0   72500.0   10000000.0   \n",
       "Robbery                                3143     1.0   25000.0   50000000.0   \n",
       "Strangulation                           907     1.0   10000.0   25001000.0   \n",
       "Unlicensed Operation                    464     1.0       1.0     100000.0   \n",
       "\n",
       "                                                              \n",
       "                                          mean           std  \n",
       "Arraign Charge Category                                       \n",
       "Aggravated Harassment             21403.639640  5.031305e+04  \n",
       "Assault                           60249.141807  6.367158e+05  \n",
       "Burglary                          48453.686520  2.086470e+05  \n",
       "Conspiracy                       448639.272727  9.128553e+05  \n",
       "Criminal Contempt                 20057.910632  4.241364e+04  \n",
       "Criminal Possession of a Weapon  284118.197297  1.391367e+07  \n",
       "DWI                               12048.478261  3.486520e+04  \n",
       "Drug                             201462.303184  2.887055e+06  \n",
       "Endangering Welfare                8281.104575  1.837809e+04  \n",
       "Homicide Related                 690217.391304  4.351727e+06  \n",
       "Larceny                            7275.795418  2.989489e+04  \n",
       "Obstruction                        3343.605263  2.170763e+04  \n",
       "Other                             74677.177609  8.353358e+05  \n",
       "Other Sex Offense                136778.001085  6.968192e+05  \n",
       "Other VTL                         25165.509091  1.432443e+05  \n",
       "Property                          17758.443613  7.660729e+04  \n",
       "Rape                             245659.556911  7.870981e+05  \n",
       "Robbery                          110422.092587  1.084428e+06  \n",
       "Strangulation                     53302.836825  8.315743e+05  \n",
       "Unlicensed Operation               3588.573276  1.209666e+04  "
      ]
     },
     "execution_count": 173,
     "metadata": {},
     "output_type": "execute_result"
    }
   ],
   "source": [
    "df_crime_bail.groupby([\"Arraign Charge Category\"]).agg([\"count\",\"min\",\"median\",\"max\",\"mean\",\"std\"])"
   ]
  },
  {
   "cell_type": "code",
   "execution_count": 179,
   "metadata": {},
   "outputs": [
    {
     "data": {
      "text/html": [
       "<div>\n",
       "<style scoped>\n",
       "    .dataframe tbody tr th:only-of-type {\n",
       "        vertical-align: middle;\n",
       "    }\n",
       "\n",
       "    .dataframe tbody tr th {\n",
       "        vertical-align: top;\n",
       "    }\n",
       "\n",
       "    .dataframe thead th {\n",
       "        text-align: right;\n",
       "    }\n",
       "</style>\n",
       "<table border=\"1\" class=\"dataframe\">\n",
       "  <thead>\n",
       "    <tr style=\"text-align: right;\">\n",
       "      <th></th>\n",
       "      <th>Gender</th>\n",
       "      <th>Age_at_Crime</th>\n",
       "      <th>Age_at_Arrest</th>\n",
       "      <th>Bail_Amount</th>\n",
       "      <th>Age</th>\n",
       "      <th>Violent_Fel</th>\n",
       "      <th>Year</th>\n",
       "    </tr>\n",
       "  </thead>\n",
       "  <tbody>\n",
       "    <tr>\n",
       "      <th>count</th>\n",
       "      <td>36540.0</td>\n",
       "      <td>36540.000000</td>\n",
       "      <td>36540.000000</td>\n",
       "      <td>3.654000e+04</td>\n",
       "      <td>36540.000000</td>\n",
       "      <td>36540.000000</td>\n",
       "      <td>36540.00000</td>\n",
       "    </tr>\n",
       "    <tr>\n",
       "      <th>mean</th>\n",
       "      <td>1.0</td>\n",
       "      <td>33.932047</td>\n",
       "      <td>34.065244</td>\n",
       "      <td>1.055143e+05</td>\n",
       "      <td>34.066721</td>\n",
       "      <td>0.441160</td>\n",
       "      <td>2020.34116</td>\n",
       "    </tr>\n",
       "    <tr>\n",
       "      <th>std</th>\n",
       "      <td>0.0</td>\n",
       "      <td>10.881952</td>\n",
       "      <td>10.906569</td>\n",
       "      <td>5.348134e+06</td>\n",
       "      <td>10.904033</td>\n",
       "      <td>0.496533</td>\n",
       "      <td>0.49539</td>\n",
       "    </tr>\n",
       "    <tr>\n",
       "      <th>min</th>\n",
       "      <td>1.0</td>\n",
       "      <td>0.000000</td>\n",
       "      <td>0.000000</td>\n",
       "      <td>1.000000e+00</td>\n",
       "      <td>0.000000</td>\n",
       "      <td>0.000000</td>\n",
       "      <td>2018.00000</td>\n",
       "    </tr>\n",
       "    <tr>\n",
       "      <th>25%</th>\n",
       "      <td>1.0</td>\n",
       "      <td>26.000000</td>\n",
       "      <td>26.000000</td>\n",
       "      <td>1.000000e+02</td>\n",
       "      <td>26.000000</td>\n",
       "      <td>0.000000</td>\n",
       "      <td>2020.00000</td>\n",
       "    </tr>\n",
       "    <tr>\n",
       "      <th>50%</th>\n",
       "      <td>1.0</td>\n",
       "      <td>32.000000</td>\n",
       "      <td>32.000000</td>\n",
       "      <td>1.000000e+04</td>\n",
       "      <td>32.000000</td>\n",
       "      <td>0.000000</td>\n",
       "      <td>2020.00000</td>\n",
       "    </tr>\n",
       "    <tr>\n",
       "      <th>75%</th>\n",
       "      <td>1.0</td>\n",
       "      <td>40.000000</td>\n",
       "      <td>40.000000</td>\n",
       "      <td>4.000000e+04</td>\n",
       "      <td>40.000000</td>\n",
       "      <td>1.000000</td>\n",
       "      <td>2021.00000</td>\n",
       "    </tr>\n",
       "    <tr>\n",
       "      <th>max</th>\n",
       "      <td>1.0</td>\n",
       "      <td>87.000000</td>\n",
       "      <td>88.000000</td>\n",
       "      <td>1.000000e+09</td>\n",
       "      <td>88.000000</td>\n",
       "      <td>1.000000</td>\n",
       "      <td>2021.00000</td>\n",
       "    </tr>\n",
       "  </tbody>\n",
       "</table>\n",
       "</div>"
      ],
      "text/plain": [
       "        Gender  Age_at_Crime  Age_at_Arrest   Bail_Amount           Age  \\\n",
       "count  36540.0  36540.000000   36540.000000  3.654000e+04  36540.000000   \n",
       "mean       1.0     33.932047      34.065244  1.055143e+05     34.066721   \n",
       "std        0.0     10.881952      10.906569  5.348134e+06     10.904033   \n",
       "min        1.0      0.000000       0.000000  1.000000e+00      0.000000   \n",
       "25%        1.0     26.000000      26.000000  1.000000e+02     26.000000   \n",
       "50%        1.0     32.000000      32.000000  1.000000e+04     32.000000   \n",
       "75%        1.0     40.000000      40.000000  4.000000e+04     40.000000   \n",
       "max        1.0     87.000000      88.000000  1.000000e+09     88.000000   \n",
       "\n",
       "        Violent_Fel         Year  \n",
       "count  36540.000000  36540.00000  \n",
       "mean       0.441160   2020.34116  \n",
       "std        0.496533      0.49539  \n",
       "min        0.000000   2018.00000  \n",
       "25%        0.000000   2020.00000  \n",
       "50%        0.000000   2020.00000  \n",
       "75%        1.000000   2021.00000  \n",
       "max        1.000000   2021.00000  "
      ]
     },
     "execution_count": 179,
     "metadata": {},
     "output_type": "execute_result"
    }
   ],
   "source": [
    "df_clean.describe()"
   ]
  },
  {
   "cell_type": "code",
   "execution_count": 141,
   "metadata": {},
   "outputs": [
    {
     "data": {
      "text/html": [
       "<div>\n",
       "<style scoped>\n",
       "    .dataframe tbody tr th:only-of-type {\n",
       "        vertical-align: middle;\n",
       "    }\n",
       "\n",
       "    .dataframe tbody tr th {\n",
       "        vertical-align: top;\n",
       "    }\n",
       "\n",
       "    .dataframe thead th {\n",
       "        text-align: right;\n",
       "    }\n",
       "</style>\n",
       "<table border=\"1\" class=\"dataframe\">\n",
       "  <thead>\n",
       "    <tr style=\"text-align: right;\">\n",
       "      <th></th>\n",
       "      <th>Gender</th>\n",
       "      <th>Age_at_Crime</th>\n",
       "      <th>Age_at_Arrest</th>\n",
       "      <th>Bail_Amount</th>\n",
       "      <th>Age</th>\n",
       "      <th>Violent_Fel</th>\n",
       "      <th>Year</th>\n",
       "    </tr>\n",
       "    <tr>\n",
       "      <th>Race</th>\n",
       "      <th></th>\n",
       "      <th></th>\n",
       "      <th></th>\n",
       "      <th></th>\n",
       "      <th></th>\n",
       "      <th></th>\n",
       "      <th></th>\n",
       "    </tr>\n",
       "  </thead>\n",
       "  <tbody>\n",
       "    <tr>\n",
       "      <th>American Indian/Alaskan Native</th>\n",
       "      <td>1.0</td>\n",
       "      <td>29.444444</td>\n",
       "      <td>29.518519</td>\n",
       "      <td>11189.296296</td>\n",
       "      <td>29.518519</td>\n",
       "      <td>0.444444</td>\n",
       "      <td>2020.518519</td>\n",
       "    </tr>\n",
       "    <tr>\n",
       "      <th>Asian/Pacific Islander</th>\n",
       "      <td>1.0</td>\n",
       "      <td>29.428571</td>\n",
       "      <td>29.500000</td>\n",
       "      <td>34170.678571</td>\n",
       "      <td>29.500000</td>\n",
       "      <td>0.178571</td>\n",
       "      <td>2020.464286</td>\n",
       "    </tr>\n",
       "    <tr>\n",
       "      <th>Black</th>\n",
       "      <td>1.0</td>\n",
       "      <td>33.325445</td>\n",
       "      <td>33.430159</td>\n",
       "      <td>115514.535879</td>\n",
       "      <td>33.430973</td>\n",
       "      <td>0.500383</td>\n",
       "      <td>2020.346331</td>\n",
       "    </tr>\n",
       "    <tr>\n",
       "      <th>Other</th>\n",
       "      <td>1.0</td>\n",
       "      <td>31.712329</td>\n",
       "      <td>32.753425</td>\n",
       "      <td>65052.328767</td>\n",
       "      <td>32.753425</td>\n",
       "      <td>0.246575</td>\n",
       "      <td>2020.328767</td>\n",
       "    </tr>\n",
       "    <tr>\n",
       "      <th>Unknown</th>\n",
       "      <td>1.0</td>\n",
       "      <td>33.857427</td>\n",
       "      <td>34.089854</td>\n",
       "      <td>106927.377321</td>\n",
       "      <td>34.089854</td>\n",
       "      <td>0.304045</td>\n",
       "      <td>2020.287467</td>\n",
       "    </tr>\n",
       "    <tr>\n",
       "      <th>White</th>\n",
       "      <td>1.0</td>\n",
       "      <td>34.994169</td>\n",
       "      <td>35.145927</td>\n",
       "      <td>89098.277236</td>\n",
       "      <td>35.148882</td>\n",
       "      <td>0.377157</td>\n",
       "      <td>2020.344888</td>\n",
       "    </tr>\n",
       "  </tbody>\n",
       "</table>\n",
       "</div>"
      ],
      "text/plain": [
       "                                Gender  Age_at_Crime  Age_at_Arrest  \\\n",
       "Race                                                                  \n",
       "American Indian/Alaskan Native     1.0     29.444444      29.518519   \n",
       "Asian/Pacific Islander             1.0     29.428571      29.500000   \n",
       "Black                              1.0     33.325445      33.430159   \n",
       "Other                              1.0     31.712329      32.753425   \n",
       "Unknown                            1.0     33.857427      34.089854   \n",
       "White                              1.0     34.994169      35.145927   \n",
       "\n",
       "                                  Bail_Amount        Age  Violent_Fel  \\\n",
       "Race                                                                    \n",
       "American Indian/Alaskan Native   11189.296296  29.518519     0.444444   \n",
       "Asian/Pacific Islander           34170.678571  29.500000     0.178571   \n",
       "Black                           115514.535879  33.430973     0.500383   \n",
       "Other                            65052.328767  32.753425     0.246575   \n",
       "Unknown                         106927.377321  34.089854     0.304045   \n",
       "White                            89098.277236  35.148882     0.377157   \n",
       "\n",
       "                                       Year  \n",
       "Race                                         \n",
       "American Indian/Alaskan Native  2020.518519  \n",
       "Asian/Pacific Islander          2020.464286  \n",
       "Black                           2020.346331  \n",
       "Other                           2020.328767  \n",
       "Unknown                         2020.287467  \n",
       "White                           2020.344888  "
      ]
     },
     "execution_count": 141,
     "metadata": {},
     "output_type": "execute_result"
    }
   ],
   "source": [
    "df_clean.groupby(['Race']).mean()"
   ]
  },
  {
   "cell_type": "code",
   "execution_count": 139,
   "metadata": {},
   "outputs": [
    {
     "data": {
      "text/html": [
       "<div>\n",
       "<style scoped>\n",
       "    .dataframe tbody tr th:only-of-type {\n",
       "        vertical-align: middle;\n",
       "    }\n",
       "\n",
       "    .dataframe tbody tr th {\n",
       "        vertical-align: top;\n",
       "    }\n",
       "\n",
       "    .dataframe thead th {\n",
       "        text-align: right;\n",
       "    }\n",
       "</style>\n",
       "<table border=\"1\" class=\"dataframe\">\n",
       "  <thead>\n",
       "    <tr style=\"text-align: right;\">\n",
       "      <th></th>\n",
       "      <th>Gender</th>\n",
       "      <th>Age_at_Crime</th>\n",
       "      <th>Age_at_Arrest</th>\n",
       "      <th>Bail_Amount</th>\n",
       "      <th>Age</th>\n",
       "      <th>Year</th>\n",
       "    </tr>\n",
       "    <tr>\n",
       "      <th>Violent_Fel</th>\n",
       "      <th></th>\n",
       "      <th></th>\n",
       "      <th></th>\n",
       "      <th></th>\n",
       "      <th></th>\n",
       "      <th></th>\n",
       "    </tr>\n",
       "  </thead>\n",
       "  <tbody>\n",
       "    <tr>\n",
       "      <th>0</th>\n",
       "      <td>1</td>\n",
       "      <td>35.487365</td>\n",
       "      <td>35.593095</td>\n",
       "      <td>48793.598580</td>\n",
       "      <td>35.595739</td>\n",
       "      <td>2020.337120</td>\n",
       "    </tr>\n",
       "    <tr>\n",
       "      <th>1</th>\n",
       "      <td>1</td>\n",
       "      <td>31.961849</td>\n",
       "      <td>32.129839</td>\n",
       "      <td>177365.215819</td>\n",
       "      <td>32.129839</td>\n",
       "      <td>2020.346278</td>\n",
       "    </tr>\n",
       "  </tbody>\n",
       "</table>\n",
       "</div>"
      ],
      "text/plain": [
       "             Gender  Age_at_Crime  Age_at_Arrest    Bail_Amount        Age  \\\n",
       "Violent_Fel                                                                  \n",
       "0                 1     35.487365      35.593095   48793.598580  35.595739   \n",
       "1                 1     31.961849      32.129839  177365.215819  32.129839   \n",
       "\n",
       "                    Year  \n",
       "Violent_Fel               \n",
       "0            2020.337120  \n",
       "1            2020.346278  "
      ]
     },
     "execution_count": 139,
     "metadata": {},
     "output_type": "execute_result"
    }
   ],
   "source": [
    "df_clean.groupby(['Violent_Fel']).mean()\n"
   ]
  },
  {
   "cell_type": "code",
   "execution_count": 34,
   "metadata": {},
   "outputs": [
    {
     "data": {
      "text/html": [
       "<div>\n",
       "<style scoped>\n",
       "    .dataframe tbody tr th:only-of-type {\n",
       "        vertical-align: middle;\n",
       "    }\n",
       "\n",
       "    .dataframe tbody tr th {\n",
       "        vertical-align: top;\n",
       "    }\n",
       "\n",
       "    .dataframe thead th {\n",
       "        text-align: right;\n",
       "    }\n",
       "</style>\n",
       "<table border=\"1\" class=\"dataframe\">\n",
       "  <thead>\n",
       "    <tr style=\"text-align: right;\">\n",
       "      <th></th>\n",
       "      <th>Gender</th>\n",
       "      <th>Age_at_Crime</th>\n",
       "      <th>Age_at_Arrest</th>\n",
       "      <th>Bail_Amount</th>\n",
       "      <th>Age</th>\n",
       "      <th>Year</th>\n",
       "    </tr>\n",
       "    <tr>\n",
       "      <th>Violent_Fel</th>\n",
       "      <th></th>\n",
       "      <th></th>\n",
       "      <th></th>\n",
       "      <th></th>\n",
       "      <th></th>\n",
       "      <th></th>\n",
       "    </tr>\n",
       "  </thead>\n",
       "  <tbody>\n",
       "    <tr>\n",
       "      <th>0</th>\n",
       "      <td>1</td>\n",
       "      <td>34.0</td>\n",
       "      <td>34.0</td>\n",
       "      <td>2000.0</td>\n",
       "      <td>34.0</td>\n",
       "      <td>2020.0</td>\n",
       "    </tr>\n",
       "    <tr>\n",
       "      <th>1</th>\n",
       "      <td>1</td>\n",
       "      <td>29.0</td>\n",
       "      <td>30.0</td>\n",
       "      <td>30000.0</td>\n",
       "      <td>30.0</td>\n",
       "      <td>2020.0</td>\n",
       "    </tr>\n",
       "  </tbody>\n",
       "</table>\n",
       "</div>"
      ],
      "text/plain": [
       "             Gender  Age_at_Crime  Age_at_Arrest  Bail_Amount   Age    Year\n",
       "Violent_Fel                                                                \n",
       "0                 1          34.0           34.0       2000.0  34.0  2020.0\n",
       "1                 1          29.0           30.0      30000.0  30.0  2020.0"
      ]
     },
     "execution_count": 34,
     "metadata": {},
     "output_type": "execute_result"
    }
   ],
   "source": [
    "df_clean.groupby(['Violent_Fel']).median()"
   ]
  },
  {
   "cell_type": "code",
   "execution_count": 48,
   "metadata": {},
   "outputs": [
    {
     "data": {
      "text/plain": [
       "Felony         25037\n",
       "Misdemeanor    11465\n",
       "Infraction        27\n",
       "Violation         11\n",
       "Name: Top_Charge_Severity_at_Arrest, dtype: int64"
      ]
     },
     "execution_count": 48,
     "metadata": {},
     "output_type": "execute_result"
    }
   ],
   "source": [
    "df_clean[\"Top_Charge_Severity_at_Arrest\"].value_counts()"
   ]
  },
  {
   "cell_type": "code",
   "execution_count": 49,
   "metadata": {},
   "outputs": [
    {
     "data": {
      "image/png": "[encoded data removed]",
      "text/plain": [
       "<Figure size 432x288 with 1 Axes>"
      ]
     },
     "metadata": {
      "needs_background": "light"
     },
     "output_type": "display_data"
    }
   ],
   "source": [
    "\n",
    "ax = sns.countplot(x=\"Top_Charge_Severity_at_Arrest\",\n",
    "                   data=df_clean,palette=\"rocket\")"
   ]
  },
  {
   "cell_type": "code",
   "execution_count": 50,
   "metadata": {},
   "outputs": [
    {
     "data": {
      "image/png": "[encoded data removed]",
      "text/plain": [
       "<Figure size 432x288 with 1 Axes>"
      ]
     },
     "metadata": {},
     "output_type": "display_data"
    }
   ],
   "source": [
    "sns.set_theme(style=\"darkgrid\")\n",
    "\n",
    "ax = sns.countplot(x=\"Arrest_Type\", data=df_clean)"
   ]
  },
  {
   "cell_type": "code",
   "execution_count": 51,
   "metadata": {},
   "outputs": [
    {
     "data": {
      "text/plain": [
       "Black                             20876\n",
       "White                             12520\n",
       "Unknown                            3016\n",
       "Other                                73\n",
       "Asian/Pacific Islander               28\n",
       "American Indian/Alaskan Native       27\n",
       "Name: Race, dtype: int64"
      ]
     },
     "execution_count": 51,
     "metadata": {},
     "output_type": "execute_result"
    }
   ],
   "source": [
    "df_clean[\"Race\"].value_counts()"
   ]
  },
  {
   "cell_type": "code",
   "execution_count": 52,
   "metadata": {},
   "outputs": [
    {
     "data": {
      "image/png": "[encoded data removed]",
      "text/plain": [
       "<Figure size 432x288 with 1 Axes>"
      ]
     },
     "metadata": {},
     "output_type": "display_data"
    }
   ],
   "source": [
    "sns.set_theme(style=\"darkgrid\")\n",
    "ax = sns.countplot(y=\"Race\", data=df_clean)"
   ]
  },
  {
   "cell_type": "code",
   "execution_count": 53,
   "metadata": {},
   "outputs": [
    {
     "data": {
      "image/png": "[encoded data removed]",
      "text/plain": [
       "<Figure size 432x288 with 1 Axes>"
      ]
     },
     "metadata": {},
     "output_type": "display_data"
    }
   ],
   "source": [
    "sns.set_theme(style=\"darkgrid\")\n",
    "\n",
    "ax = sns.countplot(x=\"Age_at_Crime\", data=df_clean)"
   ]
  },
  {
   "cell_type": "code",
   "execution_count": 197,
   "metadata": {},
   "outputs": [],
   "source": [
    "std_val = df_clean[\"Bail_Amount\"].std()\n",
    "mean_val = df_clean[\"Bail_Amount\"].mean()\n",
    "\n",
    "two_plus = (2*std_val) +mean_val\n",
    "two_minus = mean_val- (2*std_val)\n"
   ]
  },
  {
   "cell_type": "code",
   "execution_count": 198,
   "metadata": {},
   "outputs": [
    {
     "name": "stderr",
     "output_type": "stream",
     "text": [
      "<ipython-input-198-fb1fe8fdab9f>:5: UserWarning: Boolean Series key will be reindexed to match DataFrame index.\n",
      "  df_clean = df_clean[minus_outlier_filter]\n"
     ]
    }
   ],
   "source": [
    "plus_outlier_filter = (df_clean[\"Bail_Amount\"]<=two_plus)\n",
    "minus_outlier_filter = (df_clean[\"Bail_Amount\"]>=two_minus)\n",
    "\n",
    "df_clean = df_clean[plus_outlier_filter]\n",
    "df_clean = df_clean[minus_outlier_filter]"
   ]
  },
  {
   "cell_type": "code",
   "execution_count": 199,
   "metadata": {},
   "outputs": [
    {
     "data": {
      "text/html": [
       "<div>\n",
       "<style scoped>\n",
       "    .dataframe tbody tr th:only-of-type {\n",
       "        vertical-align: middle;\n",
       "    }\n",
       "\n",
       "    .dataframe tbody tr th {\n",
       "        vertical-align: top;\n",
       "    }\n",
       "\n",
       "    .dataframe thead th {\n",
       "        text-align: right;\n",
       "    }\n",
       "</style>\n",
       "<table border=\"1\" class=\"dataframe\">\n",
       "  <thead>\n",
       "    <tr style=\"text-align: right;\">\n",
       "      <th></th>\n",
       "      <th>Gender</th>\n",
       "      <th>Race</th>\n",
       "      <th>Ethnicity</th>\n",
       "      <th>Age_at_Crime</th>\n",
       "      <th>Age_at_Arrest</th>\n",
       "      <th>Court_ORI</th>\n",
       "      <th>Judge_Name</th>\n",
       "      <th>Arrest_Type</th>\n",
       "      <th>Top_Charge_Severity_at_Arrest</th>\n",
       "      <th>Top_Charge_at_Arrest_Violent_Felony_Ind</th>\n",
       "      <th>Arraign Charge Category</th>\n",
       "      <th>Representation_Type</th>\n",
       "      <th>Def_Attended_Sched_Pretrials</th>\n",
       "      <th>Release Decision at Arraign</th>\n",
       "      <th>Bail_Amount</th>\n",
       "      <th>Age</th>\n",
       "      <th>Violent_Fel</th>\n",
       "      <th>Year</th>\n",
       "    </tr>\n",
       "  </thead>\n",
       "  <tbody>\n",
       "    <tr>\n",
       "      <th>max</th>\n",
       "      <td>1.0</td>\n",
       "      <td>White</td>\n",
       "      <td>Unknown</td>\n",
       "      <td>87.0</td>\n",
       "      <td>87.0</td>\n",
       "      <td>NY062033J</td>\n",
       "      <td>Zoll, John F.</td>\n",
       "      <td>DAT</td>\n",
       "      <td>Violation</td>\n",
       "      <td>Y</td>\n",
       "      <td>Unlicensed Operation</td>\n",
       "      <td>Self Represented</td>\n",
       "      <td>NaN</td>\n",
       "      <td>Bail-set</td>\n",
       "      <td>200000.0</td>\n",
       "      <td>87.0</td>\n",
       "      <td>1.0</td>\n",
       "      <td>2021.0</td>\n",
       "    </tr>\n",
       "    <tr>\n",
       "      <th>min</th>\n",
       "      <td>1.0</td>\n",
       "      <td>American Indian/Alaskan Native</td>\n",
       "      <td>Hispanic</td>\n",
       "      <td>0.0</td>\n",
       "      <td>0.0</td>\n",
       "      <td>NY001011J</td>\n",
       "      <td>Abriano, Gerianne</td>\n",
       "      <td>Custody</td>\n",
       "      <td>Felony</td>\n",
       "      <td>N</td>\n",
       "      <td>Aggravated Harassment</td>\n",
       "      <td>18B (Assigned Counsel)</td>\n",
       "      <td>NaN</td>\n",
       "      <td>Bail-set</td>\n",
       "      <td>1.0</td>\n",
       "      <td>0.0</td>\n",
       "      <td>0.0</td>\n",
       "      <td>2018.0</td>\n",
       "    </tr>\n",
       "    <tr>\n",
       "      <th>median</th>\n",
       "      <td>1.0</td>\n",
       "      <td>NaN</td>\n",
       "      <td>NaN</td>\n",
       "      <td>32.0</td>\n",
       "      <td>32.0</td>\n",
       "      <td>NaN</td>\n",
       "      <td>NaN</td>\n",
       "      <td>NaN</td>\n",
       "      <td>NaN</td>\n",
       "      <td>NaN</td>\n",
       "      <td>NaN</td>\n",
       "      <td>NaN</td>\n",
       "      <td>0.0</td>\n",
       "      <td>NaN</td>\n",
       "      <td>10000.0</td>\n",
       "      <td>32.0</td>\n",
       "      <td>0.0</td>\n",
       "      <td>2020.0</td>\n",
       "    </tr>\n",
       "  </tbody>\n",
       "</table>\n",
       "</div>"
      ],
      "text/plain": [
       "        Gender                            Race Ethnicity  Age_at_Crime  \\\n",
       "max        1.0                           White   Unknown          87.0   \n",
       "min        1.0  American Indian/Alaskan Native  Hispanic           0.0   \n",
       "median     1.0                             NaN       NaN          32.0   \n",
       "\n",
       "        Age_at_Arrest  Court_ORI         Judge_Name Arrest_Type  \\\n",
       "max              87.0  NY062033J      Zoll, John F.         DAT   \n",
       "min               0.0  NY001011J  Abriano, Gerianne     Custody   \n",
       "median           32.0        NaN                NaN         NaN   \n",
       "\n",
       "       Top_Charge_Severity_at_Arrest Top_Charge_at_Arrest_Violent_Felony_Ind  \\\n",
       "max                        Violation                                       Y   \n",
       "min                           Felony                                       N   \n",
       "median                           NaN                                     NaN   \n",
       "\n",
       "       Arraign Charge Category     Representation_Type  \\\n",
       "max       Unlicensed Operation        Self Represented   \n",
       "min      Aggravated Harassment  18B (Assigned Counsel)   \n",
       "median                     NaN                     NaN   \n",
       "\n",
       "        Def_Attended_Sched_Pretrials Release Decision at Arraign  Bail_Amount  \\\n",
       "max                              NaN                    Bail-set     200000.0   \n",
       "min                              NaN                    Bail-set          1.0   \n",
       "median                           0.0                         NaN      10000.0   \n",
       "\n",
       "         Age  Violent_Fel    Year  \n",
       "max     87.0          1.0  2021.0  \n",
       "min      0.0          0.0  2018.0  \n",
       "median  32.0          0.0  2020.0  "
      ]
     },
     "execution_count": 199,
     "metadata": {},
     "output_type": "execute_result"
    }
   ],
   "source": [
    "df_clean.agg([\"max\", \"min\",\"median\"])"
   ]
  },
  {
   "cell_type": "code",
   "execution_count": 200,
   "metadata": {},
   "outputs": [
    {
     "data": {
      "image/png": "[encoded data removed]",
      "text/plain": [
       "<Figure size 1440x720 with 1 Axes>"
      ]
     },
     "metadata": {},
     "output_type": "display_data"
    }
   ],
   "source": [
    "ax = sns.countplot(x=\"Bail_Amount\", data=df_clean)"
   ]
  },
  {
   "cell_type": "markdown",
   "metadata": {},
   "source": [
    "## Model Preprocessing"
   ]
  },
  {
   "cell_type": "code",
   "execution_count": 224,
   "metadata": {},
   "outputs": [
    {
     "data": {
      "text/plain": [
       "Felony         25037\n",
       "Misdemeanor    11465\n",
       "Infraction        27\n",
       "Violation         11\n",
       "Name: Top_Charge_Severity_at_Arrest, dtype: int64"
      ]
     },
     "execution_count": 224,
     "metadata": {},
     "output_type": "execute_result"
    }
   ],
   "source": [
    "#One Hot Encoding \n",
    "df_raw1[\"Top_Charge_Severity_at_Arrest\"].value_counts()\n",
    "\n"
   ]
  },
  {
   "cell_type": "code",
   "execution_count": 201,
   "metadata": {},
   "outputs": [],
   "source": [
    "# Race Dummies\n",
    "df_clean = pd.concat([df_clean,pd.get_dummies(df_clean['Race'], prefix='Race')],axis=1).drop(['Race'],axis=1)\n"
   ]
  },
  {
   "cell_type": "code",
   "execution_count": 212,
   "metadata": {},
   "outputs": [],
   "source": [
    "#Charge Type Dummies\n",
    "df_clean = pd.concat([df_clean,pd.get_dummies(df_clean['Arraign Charge Category'], prefix='Charge')],axis=1).drop(['Arraign Charge Category'],axis=1)"
   ]
  },
  {
   "cell_type": "code",
   "execution_count": 213,
   "metadata": {},
   "outputs": [],
   "source": [
    "# Charge Severity Dummies \n",
    "df_clean = pd.concat([df_clean,pd.get_dummies(df_clean['Top_Charge_Severity_at_Arrest'], prefix='Severity')],axis=1).drop(['Top_Charge_Severity_at_Arrest'],axis=1)"
   ]
  },
  {
   "cell_type": "code",
   "execution_count": 214,
   "metadata": {},
   "outputs": [
    {
     "data": {
      "text/plain": [
       "(34541, 45)"
      ]
     },
     "execution_count": 214,
     "metadata": {},
     "output_type": "execute_result"
    }
   ],
   "source": [
    "df_clean.shape"
   ]
  },
  {
   "cell_type": "code",
   "execution_count": 225,
   "metadata": {},
   "outputs": [
    {
     "data": {
      "text/plain": [
       "Index(['Gender', 'Ethnicity', 'Age_at_Crime', 'Age_at_Arrest', 'Court_ORI',\n",
       "       'Judge_Name', 'Arrest_Type', 'Top_Charge_at_Arrest_Violent_Felony_Ind',\n",
       "       'Representation_Type', 'Def_Attended_Sched_Pretrials',\n",
       "       'Release Decision at Arraign', 'Bail_Amount', 'Age', 'Violent_Fel',\n",
       "       'Year', 'Race_American Indian/Alaskan Native',\n",
       "       'Race_Asian/Pacific Islander', 'Race_Black', 'Race_Other',\n",
       "       'Race_Unknown', 'Race_White', 'Charge_Aggravated Harassment',\n",
       "       'Charge_Assault', 'Charge_Burglary', 'Charge_Conspiracy',\n",
       "       'Charge_Criminal Contempt', 'Charge_Criminal Possession of a Weapon',\n",
       "       'Charge_DWI', 'Charge_Drug', 'Charge_Endangering Welfare',\n",
       "       'Charge_Homicide Related', 'Charge_Larceny', 'Charge_Obstruction',\n",
       "       'Charge_Other', 'Charge_Other Sex Offense', 'Charge_Other VTL',\n",
       "       'Charge_Property', 'Charge_Rape', 'Charge_Robbery',\n",
       "       'Charge_Strangulation', 'Charge_Unlicensed Operation',\n",
       "       'Severity_Felony', 'Severity_Infraction', 'Severity_Misdemeanor',\n",
       "       'Severity_Violation'],\n",
       "      dtype='object')"
      ]
     },
     "execution_count": 225,
     "metadata": {},
     "output_type": "execute_result"
    }
   ],
   "source": [
    "#Standard Scaler (not needed due to all boolean with exception of Bail Amount)\n",
    "df_clean.columns\n"
   ]
  },
  {
   "cell_type": "code",
   "execution_count": 226,
   "metadata": {},
   "outputs": [],
   "source": [
    "#remove additional features for this model (Sparse points)\n",
    "xtra_features =['Ethnicity', 'Age_at_Crime', 'Age_at_Arrest', 'Court_ORI',\n",
    "       'Judge_Name', 'Arrest_Type', 'Top_Charge_at_Arrest_Violent_Felony_Ind',\n",
    "       'Representation_Type', 'Def_Attended_Sched_Pretrials',\n",
    "       'Release Decision at Arraign','Age', 'Year']"
   ]
  },
  {
   "cell_type": "code",
   "execution_count": 254,
   "metadata": {},
   "outputs": [],
   "source": [
    "df_model_feeder = pd.DataFrame(df_clean.drop(xtra_features, axis=1))"
   ]
  },
  {
   "cell_type": "code",
   "execution_count": 255,
   "metadata": {},
   "outputs": [
    {
     "data": {
      "text/html": [
       "<div>\n",
       "<style scoped>\n",
       "    .dataframe tbody tr th:only-of-type {\n",
       "        vertical-align: middle;\n",
       "    }\n",
       "\n",
       "    .dataframe tbody tr th {\n",
       "        vertical-align: top;\n",
       "    }\n",
       "\n",
       "    .dataframe thead th {\n",
       "        text-align: right;\n",
       "    }\n",
       "</style>\n",
       "<table border=\"1\" class=\"dataframe\">\n",
       "  <thead>\n",
       "    <tr style=\"text-align: right;\">\n",
       "      <th></th>\n",
       "      <th>Gender</th>\n",
       "      <th>Bail_Amount</th>\n",
       "      <th>Violent_Fel</th>\n",
       "      <th>Race_American Indian/Alaskan Native</th>\n",
       "      <th>Race_Asian/Pacific Islander</th>\n",
       "      <th>Race_Black</th>\n",
       "      <th>Race_Other</th>\n",
       "      <th>Race_Unknown</th>\n",
       "      <th>Race_White</th>\n",
       "      <th>Charge_Aggravated Harassment</th>\n",
       "      <th>Charge_Assault</th>\n",
       "      <th>Charge_Burglary</th>\n",
       "      <th>Charge_Conspiracy</th>\n",
       "      <th>Charge_Criminal Contempt</th>\n",
       "      <th>Charge_Criminal Possession of a Weapon</th>\n",
       "      <th>Charge_DWI</th>\n",
       "      <th>Charge_Drug</th>\n",
       "      <th>Charge_Endangering Welfare</th>\n",
       "      <th>Charge_Homicide Related</th>\n",
       "      <th>Charge_Larceny</th>\n",
       "      <th>Charge_Obstruction</th>\n",
       "      <th>Charge_Other</th>\n",
       "      <th>Charge_Other Sex Offense</th>\n",
       "      <th>Charge_Other VTL</th>\n",
       "      <th>Charge_Property</th>\n",
       "      <th>Charge_Rape</th>\n",
       "      <th>Charge_Robbery</th>\n",
       "      <th>Charge_Strangulation</th>\n",
       "      <th>Charge_Unlicensed Operation</th>\n",
       "      <th>Severity_Felony</th>\n",
       "      <th>Severity_Infraction</th>\n",
       "      <th>Severity_Misdemeanor</th>\n",
       "      <th>Severity_Violation</th>\n",
       "    </tr>\n",
       "  </thead>\n",
       "  <tbody>\n",
       "    <tr>\n",
       "      <th>37</th>\n",
       "      <td>1</td>\n",
       "      <td>50.0</td>\n",
       "      <td>0</td>\n",
       "      <td>0</td>\n",
       "      <td>0</td>\n",
       "      <td>1</td>\n",
       "      <td>0</td>\n",
       "      <td>0</td>\n",
       "      <td>0</td>\n",
       "      <td>0</td>\n",
       "      <td>0</td>\n",
       "      <td>0</td>\n",
       "      <td>0</td>\n",
       "      <td>0</td>\n",
       "      <td>0</td>\n",
       "      <td>0</td>\n",
       "      <td>0</td>\n",
       "      <td>0</td>\n",
       "      <td>0</td>\n",
       "      <td>0</td>\n",
       "      <td>0</td>\n",
       "      <td>0</td>\n",
       "      <td>0</td>\n",
       "      <td>0</td>\n",
       "      <td>1</td>\n",
       "      <td>0</td>\n",
       "      <td>0</td>\n",
       "      <td>0</td>\n",
       "      <td>0</td>\n",
       "      <td>0</td>\n",
       "      <td>0</td>\n",
       "      <td>1</td>\n",
       "      <td>0</td>\n",
       "    </tr>\n",
       "    <tr>\n",
       "      <th>49</th>\n",
       "      <td>1</td>\n",
       "      <td>10000.0</td>\n",
       "      <td>1</td>\n",
       "      <td>0</td>\n",
       "      <td>0</td>\n",
       "      <td>0</td>\n",
       "      <td>0</td>\n",
       "      <td>1</td>\n",
       "      <td>0</td>\n",
       "      <td>0</td>\n",
       "      <td>0</td>\n",
       "      <td>0</td>\n",
       "      <td>0</td>\n",
       "      <td>0</td>\n",
       "      <td>0</td>\n",
       "      <td>0</td>\n",
       "      <td>0</td>\n",
       "      <td>0</td>\n",
       "      <td>0</td>\n",
       "      <td>0</td>\n",
       "      <td>0</td>\n",
       "      <td>0</td>\n",
       "      <td>0</td>\n",
       "      <td>0</td>\n",
       "      <td>0</td>\n",
       "      <td>0</td>\n",
       "      <td>1</td>\n",
       "      <td>0</td>\n",
       "      <td>0</td>\n",
       "      <td>1</td>\n",
       "      <td>0</td>\n",
       "      <td>0</td>\n",
       "      <td>0</td>\n",
       "    </tr>\n",
       "    <tr>\n",
       "      <th>78</th>\n",
       "      <td>1</td>\n",
       "      <td>5000.0</td>\n",
       "      <td>0</td>\n",
       "      <td>0</td>\n",
       "      <td>0</td>\n",
       "      <td>1</td>\n",
       "      <td>0</td>\n",
       "      <td>0</td>\n",
       "      <td>0</td>\n",
       "      <td>0</td>\n",
       "      <td>0</td>\n",
       "      <td>0</td>\n",
       "      <td>0</td>\n",
       "      <td>1</td>\n",
       "      <td>0</td>\n",
       "      <td>0</td>\n",
       "      <td>0</td>\n",
       "      <td>0</td>\n",
       "      <td>0</td>\n",
       "      <td>0</td>\n",
       "      <td>0</td>\n",
       "      <td>0</td>\n",
       "      <td>0</td>\n",
       "      <td>0</td>\n",
       "      <td>0</td>\n",
       "      <td>0</td>\n",
       "      <td>0</td>\n",
       "      <td>0</td>\n",
       "      <td>0</td>\n",
       "      <td>0</td>\n",
       "      <td>0</td>\n",
       "      <td>1</td>\n",
       "      <td>0</td>\n",
       "    </tr>\n",
       "    <tr>\n",
       "      <th>84</th>\n",
       "      <td>1</td>\n",
       "      <td>20000.0</td>\n",
       "      <td>1</td>\n",
       "      <td>0</td>\n",
       "      <td>0</td>\n",
       "      <td>0</td>\n",
       "      <td>0</td>\n",
       "      <td>0</td>\n",
       "      <td>1</td>\n",
       "      <td>0</td>\n",
       "      <td>1</td>\n",
       "      <td>0</td>\n",
       "      <td>0</td>\n",
       "      <td>0</td>\n",
       "      <td>0</td>\n",
       "      <td>0</td>\n",
       "      <td>0</td>\n",
       "      <td>0</td>\n",
       "      <td>0</td>\n",
       "      <td>0</td>\n",
       "      <td>0</td>\n",
       "      <td>0</td>\n",
       "      <td>0</td>\n",
       "      <td>0</td>\n",
       "      <td>0</td>\n",
       "      <td>0</td>\n",
       "      <td>0</td>\n",
       "      <td>0</td>\n",
       "      <td>0</td>\n",
       "      <td>1</td>\n",
       "      <td>0</td>\n",
       "      <td>0</td>\n",
       "      <td>0</td>\n",
       "    </tr>\n",
       "    <tr>\n",
       "      <th>106</th>\n",
       "      <td>1</td>\n",
       "      <td>40000.0</td>\n",
       "      <td>1</td>\n",
       "      <td>0</td>\n",
       "      <td>0</td>\n",
       "      <td>1</td>\n",
       "      <td>0</td>\n",
       "      <td>0</td>\n",
       "      <td>0</td>\n",
       "      <td>0</td>\n",
       "      <td>0</td>\n",
       "      <td>0</td>\n",
       "      <td>0</td>\n",
       "      <td>0</td>\n",
       "      <td>0</td>\n",
       "      <td>0</td>\n",
       "      <td>0</td>\n",
       "      <td>0</td>\n",
       "      <td>0</td>\n",
       "      <td>0</td>\n",
       "      <td>0</td>\n",
       "      <td>0</td>\n",
       "      <td>0</td>\n",
       "      <td>0</td>\n",
       "      <td>0</td>\n",
       "      <td>0</td>\n",
       "      <td>1</td>\n",
       "      <td>0</td>\n",
       "      <td>0</td>\n",
       "      <td>1</td>\n",
       "      <td>0</td>\n",
       "      <td>0</td>\n",
       "      <td>0</td>\n",
       "    </tr>\n",
       "  </tbody>\n",
       "</table>\n",
       "</div>"
      ],
      "text/plain": [
       "     Gender  Bail_Amount  Violent_Fel  Race_American Indian/Alaskan Native  \\\n",
       "37        1         50.0            0                                    0   \n",
       "49        1      10000.0            1                                    0   \n",
       "78        1       5000.0            0                                    0   \n",
       "84        1      20000.0            1                                    0   \n",
       "106       1      40000.0            1                                    0   \n",
       "\n",
       "     Race_Asian/Pacific Islander  Race_Black  Race_Other  Race_Unknown  \\\n",
       "37                             0           1           0             0   \n",
       "49                             0           0           0             1   \n",
       "78                             0           1           0             0   \n",
       "84                             0           0           0             0   \n",
       "106                            0           1           0             0   \n",
       "\n",
       "     Race_White  Charge_Aggravated Harassment  Charge_Assault  \\\n",
       "37            0                             0               0   \n",
       "49            0                             0               0   \n",
       "78            0                             0               0   \n",
       "84            1                             0               1   \n",
       "106           0                             0               0   \n",
       "\n",
       "     Charge_Burglary  Charge_Conspiracy  Charge_Criminal Contempt  \\\n",
       "37                 0                  0                         0   \n",
       "49                 0                  0                         0   \n",
       "78                 0                  0                         1   \n",
       "84                 0                  0                         0   \n",
       "106                0                  0                         0   \n",
       "\n",
       "     Charge_Criminal Possession of a Weapon  Charge_DWI  Charge_Drug  \\\n",
       "37                                        0           0            0   \n",
       "49                                        0           0            0   \n",
       "78                                        0           0            0   \n",
       "84                                        0           0            0   \n",
       "106                                       0           0            0   \n",
       "\n",
       "     Charge_Endangering Welfare  Charge_Homicide Related  Charge_Larceny  \\\n",
       "37                            0                        0               0   \n",
       "49                            0                        0               0   \n",
       "78                            0                        0               0   \n",
       "84                            0                        0               0   \n",
       "106                           0                        0               0   \n",
       "\n",
       "     Charge_Obstruction  Charge_Other  Charge_Other Sex Offense  \\\n",
       "37                    0             0                         0   \n",
       "49                    0             0                         0   \n",
       "78                    0             0                         0   \n",
       "84                    0             0                         0   \n",
       "106                   0             0                         0   \n",
       "\n",
       "     Charge_Other VTL  Charge_Property  Charge_Rape  Charge_Robbery  \\\n",
       "37                  0                1            0               0   \n",
       "49                  0                0            0               1   \n",
       "78                  0                0            0               0   \n",
       "84                  0                0            0               0   \n",
       "106                 0                0            0               1   \n",
       "\n",
       "     Charge_Strangulation  Charge_Unlicensed Operation  Severity_Felony  \\\n",
       "37                      0                            0                0   \n",
       "49                      0                            0                1   \n",
       "78                      0                            0                0   \n",
       "84                      0                            0                1   \n",
       "106                     0                            0                1   \n",
       "\n",
       "     Severity_Infraction  Severity_Misdemeanor  Severity_Violation  \n",
       "37                     0                     1                   0  \n",
       "49                     0                     0                   0  \n",
       "78                     0                     1                   0  \n",
       "84                     0                     0                   0  \n",
       "106                    0                     0                   0  "
      ]
     },
     "execution_count": 255,
     "metadata": {},
     "output_type": "execute_result"
    }
   ],
   "source": [
    "df_model_feeder.head()"
   ]
  },
  {
   "cell_type": "code",
   "execution_count": 256,
   "metadata": {},
   "outputs": [],
   "source": [
    "# Change bail amount to quantile to predict quantile bail \n",
    "\n",
    "df_model_feeder[\"Bail_Pct\"] = df_model_feeder[\"Bail_Amount\"].rank(pct=True)\n"
   ]
  },
  {
   "cell_type": "code",
   "execution_count": 247,
   "metadata": {},
   "outputs": [],
   "source": [
    "# df_model_feeder = df_model_feeder.drop([\"Bail_Amount\"],axis=1)\n"
   ]
  },
  {
   "cell_type": "code",
   "execution_count": 257,
   "metadata": {},
   "outputs": [],
   "source": [
    "import matplotlib as plt"
   ]
  },
  {
   "cell_type": "code",
   "execution_count": 266,
   "metadata": {},
   "outputs": [
    {
     "name": "stdout",
     "output_type": "stream",
     "text": [
      "                                         Bail Percentile vs. Bail Amount\n"
     ]
    },
    {
     "data": {
      "image/png": "[encoded data removed]",
      "text/plain": [
       "<Figure size 1440x720 with 1 Axes>"
      ]
     },
     "metadata": {},
     "output_type": "display_data"
    }
   ],
   "source": [
    "plt.pyplot.scatter(x=df_model_feeder[\"Bail_Amount\"], y= df_model_feeder[\"Bail_Pct\"])\n",
    "print(\"                                         Bail Percentile vs. Bail Amount\")  "
   ]
  },
  {
   "cell_type": "markdown",
   "metadata": {},
   "source": [
    "# Model"
   ]
  },
  {
   "cell_type": "code",
   "execution_count": 279,
   "metadata": {},
   "outputs": [],
   "source": [
    "X = df_model_feeder.drop([\"Bail_Pct\"],axis=1)\n",
    "y = df_model_feeder[\"Bail_Pct\"]\n"
   ]
  },
  {
   "cell_type": "code",
   "execution_count": 280,
   "metadata": {},
   "outputs": [],
   "source": [
    "#Test_Train Split \n",
    "from sklearn.model_selection import train_test_split\n",
    "\n",
    "X_train, X_test, y_train, y_test = train_test_split(X, y, test_size=0.3)\n"
   ]
  },
  {
   "cell_type": "code",
   "execution_count": 240,
   "metadata": {},
   "outputs": [
    {
     "data": {
      "text/plain": [
       "LinearRegression()"
      ]
     },
     "execution_count": 240,
     "metadata": {},
     "output_type": "execute_result"
    }
   ],
   "source": [
    "# Define Model\n",
    "from sklearn.linear_model import LinearRegression\n",
    "\n",
    "lr_model = LinearRegression()\n",
    "#Fit model\n",
    "lr_model.fit(X_train, y_train)\n"
   ]
  },
  {
   "cell_type": "code",
   "execution_count": 244,
   "metadata": {},
   "outputs": [],
   "source": [
    "# Predicted Y train valies \n",
    "predicted_y_train = lr_model.predict(X_train) \n"
   ]
  },
  {
   "cell_type": "markdown",
   "metadata": {},
   "source": [
    "# Model Scoring"
   ]
  },
  {
   "cell_type": "code",
   "execution_count": 245,
   "metadata": {},
   "outputs": [
    {
     "name": "stdout",
     "output_type": "stream",
     "text": [
      "mse is : 0.04724273348337612               r2 is : 0.4236126246639914\n"
     ]
    }
   ],
   "source": [
    "from sklearn.metrics import mean_squared_error\n",
    "from sklearn.metrics import r2_score\n",
    "\n",
    "mse = mean_squared_error(y_test, lr_model.predict(X_test))\n",
    "r2 = r2_score(y_test, lr_model.predict(X_test))\n",
    "print(\"mse is :\", mse, \"             \", \"r2 is :\", r2)"
   ]
  },
  {
   "cell_type": "markdown",
   "metadata": {},
   "source": [
    "MSE is 0.04 meaning that the percentile of bail predicted tended to have error within plus or minus 4% of the actual value. The R2 value is 0.42 meaning that 42% of the model was explainable based on the input features. Going forward, there are additional refinements I will make to improve this. "
   ]
  },
  {
   "cell_type": "markdown",
   "metadata": {},
   "source": [
    "# Next Steps:\n",
    "     1.Use Top_Charge_at_Arrest in place of Charge category and Severity \n",
    "     2. Add more features ( Ethnicity, Age, Judge Name, Court ORI, attended court)\n",
    "     3. Different models- Decision Tree, Random Forest\n",
    "     4. Try creating bins and doing a classification\n",
    "     5. Revert percentiles to dollar sum\n",
    "     6. Possibly, we should filter df_clean[\"Bail_Amount]>1\n",
    "     "
   ]
  }
 ],
 "metadata": {
  "kernelspec": {
   "display_name": "Python 3",
   "language": "python",
   "name": "python3"
  },
  "language_info": {
   "codemirror_mode": {
    "name": "ipython",
    "version": 3
   },
   "file_extension": ".py",
   "mimetype": "text/x-python",
   "name": "python",
   "nbconvert_exporter": "python",
   "pygments_lexer": "ipython3",
   "version": "3.8.5"
  }
 },
 "nbformat": 4,
 "nbformat_minor": 4
}
